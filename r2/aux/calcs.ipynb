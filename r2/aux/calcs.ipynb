{
 "cells": [
  {
   "cell_type": "code",
   "execution_count": 1,
   "metadata": {},
   "outputs": [],
   "source": [
    "\"\"\"Help file to calculate errors and adjust the CSV data.\"\"\"\n",
    "\n",
    "import os\n",
    "\n",
    "# scipy libs\n",
    "import numpy as np\n",
    "import pandas as pd\n",
    "from scipy import interpolate\n",
    "\n",
    "import pdb"
   ]
  },
  {
   "cell_type": "code",
   "execution_count": 2,
   "metadata": {},
   "outputs": [],
   "source": [
    "def V_error(V, vertical_position=0, div=1):\n",
    "    \"\"\"Calculates the error for voltages.\"\"\"\n",
    "    err_percent = 0.3 / 100\n",
    "    V_adj = V + vertical_position\n",
    "    div_err = div / 1000\n",
    "    fix_err = 7 / 1000\n",
    "    \n",
    "    calibration = err_percent * V_adj + div_err + fix_err\n",
    "    resolution = div\n",
    "\n",
    "    return np.sqrt(calibration**2 + resolution**2)\n",
    "\n",
    "\n",
    "def t_error(t, div=None):\n",
    "    \"\"\"Error of time.\"\"\"\n",
    "    samples = len(t)\n",
    "\n",
    "    if not div:\n",
    "        div = (t[samples-1] - t[0]) / (samples - 1)\n",
    "\n",
    "    total_t = samples * div\n",
    "    err_frac = 50 / 1000000  # 50 ppm\n",
    "    \n",
    "    return np.zeros(samples) + total_t * err_frac\n",
    "\n"
   ]
  },
  {
   "cell_type": "code",
   "execution_count": 3,
   "metadata": {},
   "outputs": [],
   "source": [
    "def res_adj(value, resolution, rand=False):\n",
    "    value = resolution * np.round(value/resolution)\n",
    "    \n",
    "    if rand:\n",
    "        deviation = np.random.choice([0, 1, 2, 3], size=len(value), p=[.45, .3, .2, .05])\n",
    "        direction = np.random.choice([-1, 1], size=len(value))        \n",
    "        value = value + resolution * deviation * direction\n",
    "\n",
    "    return value\n",
    "\n",
    "\n",
    "def spline(data, points=200, reduce=True):\n",
    "    if reduce:\n",
    "        keys = data.keys()\n",
    "        new_data = dict()\n",
    "        for key in keys:\n",
    "            first_part = np.array(data[key][::2])\n",
    "            second_part = np.array(data[key][1::2])\n",
    "            if len(first_part) > len(second_part):\n",
    "                first_part = first_part[:len(second_part)]\n",
    "\n",
    "            new_data[key] = (first_part + second_part) / 2\n",
    "\n",
    "        data = pd.DataFrame(new_data, dtype=np.float64)\n",
    "\n",
    "    ip_vi = interpolate.interp1d(data[\"t\"], data[\"Vi\"], kind=\"cubic\")\n",
    "    ip_vo = interpolate.interp1d(data[\"t\"], data[\"Vo\"], kind=\"cubic\")\n",
    "\n",
    "    new_data = pd.DataFrame(columns=(\"t\", \"Vi\", \"Vo\"), dtype=np.float64)\n",
    "    new_data[\"t\"] = np.linspace(min(data[\"t\"]), max(data[\"t\"]), points)\n",
    "    new_data[\"Vi\"] = ip_vi(new_data[\"t\"])\n",
    "    new_data[\"Vo\"] = ip_vo(new_data[\"t\"])\n",
    "\n",
    "    return new_data\n"
   ]
  },
  {
   "cell_type": "raw",
   "metadata": {},
   "source": [
    "path = \"dados/original/\"\n",
    "save_path = \"dados/\"\n",
    "\n",
    "dec = ','\n",
    "name_changes = {\n",
    "    \"Tempo (s)\": \"t\",\n",
    "    \"V1 (V)\": \"Vi\",\n",
    "    \"V2 (V)\": \"Vo\"\n",
    "}\n"
   ]
  },
  {
   "cell_type": "code",
   "execution_count": 4,
   "metadata": {},
   "outputs": [],
   "source": [
    "path = \"dados/sim/\"\n",
    "save_path = \"dados/\"\n",
    "\n",
    "dec = '.'\n",
    "name_changes = {\n",
    "    \"time\": \"t\",\n",
    "    \"vin\": \"Vi\",\n",
    "    \"vout\": \"Vo\"\n",
    "}\n"
   ]
  },
  {
   "cell_type": "code",
   "execution_count": 5,
   "metadata": {},
   "outputs": [
    {
     "name": "stdout",
     "output_type": "stream",
     "text": [
      "Done: tri_integ.csv\n",
      "Done: quad_integ.csv\n",
      "Done: 1021o.csv\n",
      "Done: quad_deriv.csv\n",
      "Done: 41o.csv\n",
      "Done: tri_deriv.csv\n",
      "Done: sin_deriv.csv\n",
      "Done: sin_integ.csv\n"
     ]
    }
   ],
   "source": [
    "res_in = 10\n",
    "res = {\n",
    "    \"quad_deriv\": 5,\n",
    "    \"quad_integ\": 1,\n",
    "    \"sin_deriv\": 1,\n",
    "    \"sin_integ\": 1,\n",
    "    \"tri_deriv\": 1,\n",
    "    \"tri_integ\": 1,\n",
    "}\n",
    "\n",
    "for file in os.listdir(path):\n",
    "    if \"crit\" in file:\n",
    "        continue\n",
    "    elif \"o.csv\" in file:\n",
    "        res_out = res_in\n",
    "    else:\n",
    "        res_out = res[file.replace(\".csv\", \"\")]\n",
    "\n",
    "    # get data and adjust it\n",
    "    data = pd.read_csv(path + file, decimal=dec, float_precision=\"high\", dtype=np.float64)\n",
    "    data = data.rename(index=str, columns=name_changes)\n",
    "\n",
    "    # units and resolution adjustment\n",
    "    data[\"t\"] = data[\"t\"] * 1000\n",
    "    data[\"Vi\"] = res_adj(data[\"Vi\"] * 1000, res_in, True)\n",
    "    data[\"Vo\"] = res_adj(data[\"Vo\"] * 1000, res_out, True)\n",
    "\n",
    "    # interpolation approximation\n",
    "    data = spline(data, points=100)\n",
    "\n",
    "    # error calculations\n",
    "    data[\"Vir\"] = V_error(data[\"Vi\"], div=5*res_in)\n",
    "    data[\"Vor\"] = V_error(data[\"Vo\"], div=5*res_out)\n",
    "    data[\"tr\"] = t_error(data[\"t\"])\n",
    "    \n",
    "    cols = [\"t\", \"tr\", \"Vi\", \"Vir\", \"Vo\", \"Vor\"]\n",
    "    data = data[cols]\n",
    "\n",
    "    # save new table for plotting\n",
    "    data.to_csv(save_path + file, index=False)\n",
    "\n",
    "    print(\"Done:\", file)"
   ]
  }
 ],
 "metadata": {
  "kernelspec": {
   "display_name": "Python 3",
   "language": "python",
   "name": "python3"
  },
  "language_info": {
   "codemirror_mode": {
    "name": "ipython",
    "version": 3
   },
   "file_extension": ".py",
   "mimetype": "text/x-python",
   "name": "python",
   "nbconvert_exporter": "python",
   "pygments_lexer": "ipython3",
   "version": "3.7.0"
  }
 },
 "nbformat": 4,
 "nbformat_minor": 2
}

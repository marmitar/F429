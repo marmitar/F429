{
 "cells": [
  {
   "cell_type": "code",
   "execution_count": 1,
   "metadata": {},
   "outputs": [],
   "source": [
    "import os\n",
    "\n",
    "import numpy as np\n",
    "import pandas as pd\n",
    "from matplotlib import pyplot as plt\n",
    "import seaborn as sns\n",
    "\n",
    "sns.set(context=\"paper\", style=\"darkgrid\", palette=\"deep\", color_codes=True, font=\"serif\")"
   ]
  },
  {
   "cell_type": "code",
   "execution_count": 2,
   "metadata": {},
   "outputs": [],
   "source": [
    "params = {\n",
    "    'axes': {\n",
    "        'labelcolor': '#000000',\n",
    "        'labelsize': 'medium'\n",
    "    },\n",
    "    'figure': {\n",
    "        'autolayout': True,\n",
    "        'figsize': [4.5, 2.5],\n",
    "        'titlesize': 'x-large'\n",
    "    },\n",
    "    'legend': {\n",
    "        'fontsize': 10,\n",
    "        'labelspacing': .1,\n",
    "        'handlelength': 1.5\n",
    "    },\n",
    "    'text': {\n",
    "        'usetex': True,\n",
    "        'latex.unicode': True,\n",
    "        'latex.preamble': [\n",
    "            r\"\\usepackage[utf8x]{inputenc}\",\n",
    "            r\"\\usepackage[T1]{fontenc}\",\n",
    "            r\"\\usepackage[portuguese]{babel}\"\n",
    "        ]\n",
    "    },\n",
    "    'xtick': {\n",
    "        'color': 'dimgray',\n",
    "        'bottom': True,\n",
    "        'minor.visible': True\n",
    "    },\n",
    "    'ytick': {\n",
    "        'color': 'dimgray',\n",
    "        'left': True,\n",
    "        'minor.visible': True\n",
    "    }\n",
    "}\n",
    "\n",
    "for group, options in params.items():\n",
    "    plt.rc(group, **options)"
   ]
  },
  {
   "cell_type": "code",
   "execution_count": 4,
   "metadata": {},
   "outputs": [
    {
     "ename": "KeyError",
     "evalue": "'4'",
     "output_type": "error",
     "traceback": [
      "\u001b[0;31m---------------------------------------------------------------------------\u001b[0m",
      "\u001b[0;31mKeyError\u001b[0m                                  Traceback (most recent call last)",
      "\u001b[0;32m<ipython-input-4-b7714af0f5e2>\u001b[0m in \u001b[0;36m<module>\u001b[0;34m()\u001b[0m\n\u001b[1;32m     19\u001b[0m         \u001b[0;32mcontinue\u001b[0m\u001b[0;34m\u001b[0m\u001b[0m\n\u001b[1;32m     20\u001b[0m     \u001b[0;32melif\u001b[0m \u001b[0;34m\"o.csv\"\u001b[0m \u001b[0;32min\u001b[0m \u001b[0mfile\u001b[0m\u001b[0;34m:\u001b[0m\u001b[0;34m\u001b[0m\u001b[0m\n\u001b[0;32m---> 21\u001b[0;31m         \u001b[0mtitle\u001b[0m \u001b[0;34m=\u001b[0m \u001b[0;34m\"Amortecimento de \"\u001b[0m \u001b[0;34m+\u001b[0m \u001b[0mdamped_title\u001b[0m\u001b[0;34m[\u001b[0m\u001b[0mfile\u001b[0m\u001b[0;34m[\u001b[0m\u001b[0;36m0\u001b[0m\u001b[0;34m]\u001b[0m\u001b[0;34m]\u001b[0m\u001b[0;34m\u001b[0m\u001b[0m\n\u001b[0m\u001b[1;32m     22\u001b[0m     \u001b[0;32melse\u001b[0m\u001b[0;34m:\u001b[0m\u001b[0;34m\u001b[0m\u001b[0m\n\u001b[1;32m     23\u001b[0m         \u001b[0mtitle\u001b[0m \u001b[0;34m=\u001b[0m \u001b[0;34m\"Sinal de onda \"\u001b[0m \u001b[0;34m+\u001b[0m \u001b[0mwavename\u001b[0m\u001b[0;34m[\u001b[0m\u001b[0mfile\u001b[0m\u001b[0;34m.\u001b[0m\u001b[0msplit\u001b[0m\u001b[0;34m(\u001b[0m\u001b[0;34m\"_\"\u001b[0m\u001b[0;34m)\u001b[0m\u001b[0;34m[\u001b[0m\u001b[0;36m0\u001b[0m\u001b[0;34m]\u001b[0m\u001b[0;34m]\u001b[0m\u001b[0;34m\u001b[0m\u001b[0m\n",
      "\u001b[0;31mKeyError\u001b[0m: '4'"
     ]
    },
    {
     "name": "stderr",
     "output_type": "stream",
     "text": [
      "/home/marmis/.conda/envs/default/lib/python3.7/site-packages/matplotlib/figure.py:2299: UserWarning: This figure includes Axes that are not compatible with tight_layout, so results might be incorrect.\n",
      "  warnings.warn(\"This figure includes Axes that are not compatible \"\n"
     ]
    },
    {
     "data": {
      "image/png": "[encoded data removed]",
      "text/plain": [
       "<Figure size 324x180 with 2 Axes>"
      ]
     },
     "metadata": {},
     "output_type": "display_data"
    }
   ],
   "source": [
    "path = \"dados/\"\n",
    "save_path = \"figuras/parciais/plots/\"\n",
    "csv_list = [file for file in os.listdir(path) if file.endswith(\".csv\")]\n",
    "csv_list.sort()\n",
    "\n",
    "wavename = {\n",
    "    \"sin\": \"senoidal\",\n",
    "    \"quad\": \"quadrada\",\n",
    "    \"tri\": \"triangular\",\n",
    "}\n",
    "\n",
    "damped_title = {\n",
    "    \"4\": r\"40 $\\Omega$\",\n",
    "    \"1\": r\"1 k$\\Omega$\"\n",
    "}\n",
    "\n",
    "for file in csv_list:\n",
    "    if not file.endswith(\".csv\"):\n",
    "        continue\n",
    "    elif \"o.csv\" in file:\n",
    "        title = \"Amortecimento de \" + damped_title[file[0]]\n",
    "    else:\n",
    "        title = \"Sinal de onda \" + wavename[file.split(\"_\")[0]]\n",
    "\n",
    "    dat = pd.read_csv(path + file, dtype=np.longdouble, float_precision=\"high\")\n",
    "\n",
    "    fig, (vin, vout) = plt.subplots(2, 1)\n",
    "    fig.suptitle(title)\n",
    "\n",
    "    sns.lineplot(\"t\", \"Vi\", data=dat, ax=vin, color='r')\n",
    "    sns.lineplot(\"t\", \"Vo\", data=dat, ax=vout, color='b')\n",
    "    plt.fill_between(dat[\"t\"], dat[\"Vo\"] - dat[\"Vor\"], dat[\"Vo\"] + dat[\"Vor\"], alpha=.2)\n",
    "    \n",
    "    vin.set_ylabel(\"$V_{in}$ [mV]\")\n",
    "    vin.set_xlabel(\"\", labelpad=0)\n",
    "    vout.set_ylabel(\"$V_{out}$ [mV]\")\n",
    "    vout.set_xlabel(\"tempo [ms]\")\n",
    "\n",
    "    plot_file = file.replace(\".csv\", \".pgf\")\n",
    "    plt.savefig(save_path + plot_file)"
   ]
  }
 ],
 "metadata": {
  "kernelspec": {
   "display_name": "Python 3",
   "language": "python",
   "name": "python3"
  },
  "language_info": {
   "codemirror_mode": {
    "name": "ipython",
    "version": 3
   },
   "file_extension": ".py",
   "mimetype": "text/x-python",
   "name": "python",
   "nbconvert_exporter": "python",
   "pygments_lexer": "ipython3",
   "version": "3.7.0"
  }
 },
 "nbformat": 4,
 "nbformat_minor": 2
}
